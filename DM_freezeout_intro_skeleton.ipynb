{
  "nbformat": 4,
  "nbformat_minor": 0,
  "metadata": {
    "colab": {
      "provenance": [],
      "authorship_tag": "ABX9TyPqOAzehObJA5z1bPzegX8J",
      "include_colab_link": true
    },
    "kernelspec": {
      "name": "python3",
      "display_name": "Python 3"
    },
    "language_info": {
      "name": "python"
    }
  },
  "cells": [
    {
      "cell_type": "markdown",
      "metadata": {
        "id": "view-in-github",
        "colab_type": "text"
      },
      "source": [
        "<a href=\"https://colab.research.google.com/github/jaydenn/CDMPP_computing/blob/main/DM_freezeout_intro_skeleton.ipynb\" target=\"_parent\"><img src=\"https://colab.research.google.com/assets/colab-badge.svg\" alt=\"Open In Colab\"/></a>"
      ]
    },
    {
      "cell_type": "markdown",
      "source": [
        "#**Intro to Google Colab**"
      ],
      "metadata": {
        "id": "nlp9IhF7rnG0"
      }
    },
    {
      "cell_type": "markdown",
      "source": [
        "- Can run in the cloud or locally - if you already have python and jupyter installed, then just launch a notebook: 'jupyter notebook' and copy the URL\n",
        "\n",
        "- Built-in access to documentation\n",
        "\n",
        "- Basic stack inspector\n",
        "\n",
        "- Colab AI tool (Note: AI tools for programming are a fast moving field, they are typically based on large langauge models (very fancy autocomplete). They vary in their usefulness, but are definitely something to keep your eye on.)"
      ],
      "metadata": {
        "id": "lkCS1tHIryZE"
      }
    },
    {
      "cell_type": "markdown",
      "source": [
        "# **Dark matter freeze out and relic density**\n",
        "\n",
        "- This notebook computes the relic density of dark matter after freezeout by numerically solving the Boltzmann equation\n",
        "\n",
        "- The purpose of the notebook is to teach/refresh some basic python skills and demonstrate how to layout a notebook\n",
        "\n",
        "- All units are in powers of GeV unless noted explicitly"
      ],
      "metadata": {
        "id": "azXnb_CwWrYx"
      }
    },
    {
      "cell_type": "markdown",
      "source": [
        "## Import requried packages"
      ],
      "metadata": {
        "id": "wlnXdjX0xlzD"
      }
    },
    {
      "cell_type": "code",
      "execution_count": null,
      "metadata": {
        "id": "-3C3QerEEHVO"
      },
      "outputs": [],
      "source": [
        "import numpy as np\n",
        "\n",
        "from scipy.interpolate import interp1d\n",
        "from scipy.integrate import quad\n",
        "from scipy.integrate import solve_ivp\n",
        "from scipy.special import kv\n",
        "from scipy.optimize import root\n",
        "\n",
        "import matplotlib as mpl\n",
        "import matplotlib.pyplot as plt\n",
        "\n",
        "from google.colab import files"
      ]
    },
    {
      "cell_type": "markdown",
      "source": [
        "##Define constants"
      ],
      "metadata": {
        "id": "KF8f7KEa79Te"
      }
    },
    {
      "cell_type": "code",
      "source": [
        "#Units given in GeV with hbar = c = 1\n",
        "Centimeter = 5.06773e13 #1/GeV\n",
        "Meter = 100 * Centimeter\n",
        "Kilometer = 1e5 * Centimeter\n",
        "Parsec = 3.086e18 * Centimeter\n",
        "\n",
        "Second = 1.51927e24 #1/GeV\n",
        "Year = 365.25 * 24 * 3600 * Second\n",
        "\n",
        "Kelvin = 8.61733e-14 #GeV\n",
        "\n",
        "Kilogram = 5.6101e26 #GeV\n",
        "\n",
        "#Physical constants\n",
        "Gnewton = 6.67e-11 * Meter**3 / Kilogram / Second**2  #Gravitational constant\n",
        "M_pl = 1.22e19                                        #Plank mass in GeV\n",
        "geff = 100.      #approx number of degrees of freedom in Standard Model"
      ],
      "metadata": {
        "id": "2O4KRnn-8BWZ"
      },
      "execution_count": null,
      "outputs": []
    },
    {
      "cell_type": "markdown",
      "source": [
        "# Approximate calculation\n",
        "\n"
      ],
      "metadata": {
        "id": "u-WgiK8Ayq7m"
      }
    },
    {
      "cell_type": "markdown",
      "source": [
        "In this section we will perform an approximate calculation as an example (below, as an exercise you will make several improvements). Here the standard model degrees of freedom are taken to be constant ($g^*=100$) and so this is most appropriate for heavy DM that freeze out at temperatures above $\\sim 100$ GeV\n",
        "\n",
        "The Boltzmann equation which defines how the dark matter number density, $n$, evolves with time, $t$, is:\n",
        "\n",
        "$\\frac{dn}{dt} = -3H(t) n - \\langle \\sigma v \\rangle (n^2 - n_{eq}^2)$\n",
        "\n",
        "where, $H$ is the Hubble constant (expanding Universe dilutes density) and $\\langle \\sigma v \\rangle$ is the thermally averaged cross section (times velocity) of the dark matter annihilating to standard model particles.\n",
        "\n",
        "To solve this we need to know the Hubble constant, which we get from solving the Friedman equations. At early times the Universe is radiation dominated, giving:\n",
        "\n",
        "$H^2 = \\left(\\frac{\\dot{a}}{a}\\right) = \\frac{8\\pi^3}{90 m_{pl}^2}g_{eff}(T) T^4$\n",
        "\n",
        "Where $m_{pl}$ is the Planck mass, $g_{eff}$ are the degrees of freedom of the Standard Model plasma and $T$ is the temperature (taken to be photon temperature).\n",
        "\n",
        "To relate $H$ to time, we use the fact that (again during radiation domination):\n",
        "\n",
        "$a(t) = a_0 t^{1/2}$\n",
        "\n",
        "Implying:\n",
        "\n",
        "$H = 1/(2t)$\n",
        "\n",
        "And the equilibrium number density at temperature, T, of a particle with mass, m, and total degrees of freedom, g, is:\n",
        "\n",
        "$n_{eq}(T) = \\frac{g m_\\chi^2}{2 \\pi^2} T K_2(m_\\chi/T)$\n",
        "\n",
        "where $K_2$ is a modified Bessel function of the second kind.\n",
        "\n"
      ],
      "metadata": {
        "id": "uz7GG6fSKzQu"
      }
    },
    {
      "cell_type": "markdown",
      "source": [
        "##Functions definitions"
      ],
      "metadata": {
        "id": "gQjlFTobMOrk"
      }
    },
    {
      "cell_type": "code",
      "source": [
        "#This function takes a time (in 1/GeV), and returns the hubble parameter (in GeV)\n",
        "# of the universe at that time\n",
        "def HubbleAtTime(time):\n",
        "    return 1/(2 * time)\n",
        "\n",
        "#Takes Temp (in GeV), and returns the hubble parameter (in GeV)\n",
        "# of the universe when it was that temperature\n",
        "def HubbleAtTemp(Temp):\n",
        "    return np.sqrt(8 * np.pi**3 * geff / 90 ) * Temp**2 / M_pl\n",
        "\n",
        "#This function takes a temperature, Temp (in GeV), and returns the time (in 1/GeV)\n",
        "# the universe was at that temperature\n",
        "def timeAtTemp(Temp):\n",
        "    H = HubbleAtTemp(Temp)\n",
        "    return 1/2./H\n",
        "\n",
        "#This function takes a time (in 1/GeV), and returns the temperature (in GeV) the\n",
        "# universe was at that time\n",
        "def TempAtTime(time):\n",
        "    H = HubbleAtTime(time)\n",
        "    return np.sqrt( H / np.sqrt(8 * np.pi**3 * geff / (90 * M_pl**2 )  ) ) #units of GeV"
      ],
      "metadata": {
        "id": "nNsl5UuOwpD3"
      },
      "execution_count": null,
      "outputs": []
    },
    {
      "cell_type": "code",
      "source": [
        "#Returns the equilibrium number density (in GeV^3) at time t, for a particle with\n",
        "# mass = mDM and gDM degrees of freedom\n",
        "def n_eq( t, mDM, gDM):\n",
        "    Temp = TempAtTime(t)\n",
        "    return gDM * mDM**2 * Temp * kv(2, mDM/Temp) / (2 * np.pi**2)\n",
        "\n",
        "#This is the right-hand-side of the Boltzmann eqn. i.e. it returns dn/dt (GeV^4)\n",
        "# at a given time, t, number density, n, for DM mass mDM, annihilation\n",
        "# cross section, sigmav, and number of degrees of freedom, gDM\n",
        "def BoltzmannEqnRHS( t, n, mDM, sigmav, gDM):\n",
        "    return -3*HubbleAtTime(t)*n - sigmav*(n**2 - n_eq(t,mDM,gDM)**2)\n",
        "\n",
        "\n",
        "#Solve the Boltzmann equation for a given dark matter mass, mDM, annihilation\n",
        "# cross section, sigmav, number of degrees of freedom, gDM\n",
        "# numPoints controls the number of log-spaced function evaluations returned\n",
        "# between the time when temperature is .01*mDM and 1e4*mDM\n",
        "# a list of two arrays is returned: (t_values, n_values)\n",
        "def solve_BoltzEqn( mDM, sigmav, gDM, numPoints):\n",
        "\n",
        "    #This makes sure we start in equilibrium and end after freezeout\n",
        "    t_start = timeAtTemp(mDM) * 1e-2\n",
        "    t_end   = timeAtTemp(mDM) * 1e4\n",
        "    t_array = np.logspace(np.log10(t_start*1.001),np.log10(t_end*0.999),numPoints)\n",
        "\n",
        "    #calculate initial equilibrium density\n",
        "    nInitial = n_eq(t_array[0],mDM,gDM)\n",
        "\n",
        "    #solve the ODE using SciPy., with sub-percent precision\n",
        "    sol = solve_ivp(BoltzmannEqnRHS, [t_start,t_end], [nInitial], method='Radau',\\\n",
        "                    args=(mDM,sigmav,gDM), t_eval=t_array, rtol=1e-3, atol=1e-13)\n",
        "\n",
        "    #Check if there were any problems with the integration\n",
        "    if sol.status == 0:\n",
        "        return (sol.t,sol.y[0])\n",
        "    else:\n",
        "        print(\"Integration failed\")\n",
        "        return -1"
      ],
      "metadata": {
        "id": "ax5tbTTBxpfI"
      },
      "execution_count": null,
      "outputs": []
    },
    {
      "cell_type": "markdown",
      "source": [
        "## Example freezeout calculation\n",
        "\n",
        "Here we solve the Boltzmann equation for a dark matter particle with $m_\\chi$ = 100 GeV and $\\langle\\sigma v \\rangle = 3\\times10^{-26}$ cm$^{3}$s$^{-1}$"
      ],
      "metadata": {
        "id": "AdwZyAtE-2TQ"
      }
    },
    {
      "cell_type": "code",
      "source": [
        "nVsTime_mDM100 = solve_BoltzEqn( 100, 3e-26 * Centimeter**3/Second, 2, 100)"
      ],
      "metadata": {
        "id": "luOIyRJb7FG3"
      },
      "execution_count": null,
      "outputs": []
    },
    {
      "cell_type": "markdown",
      "source": [
        "Now we will create a figure of dark matter density vs. time using the above solution:"
      ],
      "metadata": {
        "id": "GtqZN9ie7l5t"
      }
    },
    {
      "cell_type": "code",
      "source": [
        "#Plot the solution\n",
        "fig1 = plt.figure( figsize = (5,5))\n",
        "plt.plot( nVsTime_mDM100[0], nVsTime_mDM100[1], 'k-')\n",
        "\n",
        "#Setup axes\n",
        "plt.xscale('log')\n",
        "plt.yscale('log')\n",
        "plt.xlabel(r\"Time $(GeV^{-1})$\",fontsize=14)\n",
        "plt.ylabel(r\"DM number density, $n_\\chi (GeV^{3})$\",fontsize=14)\n",
        "\n",
        "plt.xticks(fontsize=14)\n",
        "plt.yticks(fontsize=14)\n",
        "\n",
        "#Add text for WIMP properties\n",
        "plt.text(3e11,1e-7,r\"$m_\\chi = 100$ GeV\",fontsize=14)\n",
        "plt.text(3e11,1e-8,r\"$\\langle\\sigma v \\rangle = 3\\times10^{-26}$ cm$^{3}$s$^{-1}$\",fontsize=14)\n",
        "\n",
        "plt.show()"
      ],
      "metadata": {
        "colab": {
          "base_uri": "https://localhost:8080/",
          "height": 483
        },
        "outputId": "83e8e47f-e7ce-42ff-d180-9e89c196bba6",
        "id": "TGHIvSGw8QFe"
      },
      "execution_count": null,
      "outputs": [
        {
          "output_type": "display_data",
          "data": {
            "text/plain": [
              "<Figure size 500x500 with 1 Axes>"
            ],
            "image/png": "[encoded data removed]"
          },
          "metadata": {}
        }
      ]
    },
    {
      "cell_type": "markdown",
      "source": [
        "**Warm up exercise**\n",
        "\n",
        "Replot the above figure with the following changes:\n",
        "\n",
        "- divide the number density by temperature$^3$ (this will factor out the expansion of the Universe)\n",
        "- put time in units of seconds\n",
        "- add a curve for the equilibrium number density (use `n_eq(t,m,g)`)\n",
        "\n",
        "What do you see? what does this say about dark matter/standard model interactions?"
      ],
      "metadata": {
        "id": "yEvF80cqMcTO"
      }
    },
    {
      "cell_type": "code",
      "source": [
        "#ANSWER\n"
      ],
      "metadata": {
        "id": "ugCc5QklspYy"
      },
      "execution_count": null,
      "outputs": []
    },
    {
      "cell_type": "markdown",
      "source": [
        "# Better calculation\n",
        "\n",
        "Here we will re-cast the problem to make it more accurate and easier to solve.\n",
        "\n",
        "First, we divide the number density by the entropy density, $s$, which is conserved in a co-moving volume, giving a dimensionless quantity called the *yield*:\n",
        "\n",
        "$Y = n/s$\n",
        "\n",
        "Where the entropy density at temperature, $T$ is:\n",
        "\n",
        "$s = \\frac{2\\pi^2}{45} h_{eff}(T) T^3 $\n",
        "\n",
        "Where $h_{eff}$ are the number of entropic degrees of freedom. We can then evolve with temperature of the universe. For convenience, rather than evolving in temperature, we use the dimensionless parameter, $x$:\n",
        "\n",
        "$x = m_\\chi/T$\n",
        "\n",
        "The Boltzmann equation you arrive at is then (for details see e.g. [this chapter](https://arxiv.org/abs/1009.3690) from *Particle Dark Matter*):\n",
        "\n",
        "$\\frac{dY}{dx} = - \\sqrt{\\frac{\\pi\\, m_{\\rm{pl}}^2}{45}} \\frac{g_*^{1/2}(T) \\,m_\\chi}{x^2} \\langle\\sigma v \\rangle(Y^2-Y_{\\rm{eq}}^2)$\n",
        "\n",
        "The function $g_*^{1/2}(T)$ is a function of $g_{eff}$ and $h_{eff}$ (see above reference for details). In this exercise we will interpolate some 'data' of $g_*^{1/2}(T)$, provided below."
      ],
      "metadata": {
        "id": "a32uT1M7-Yrg"
      }
    },
    {
      "cell_type": "markdown",
      "source": [
        "**Exercise 1**\n",
        "\n",
        "Your task is to reproduce the figure below.\n",
        "\n",
        "To do so you will need to:\n",
        "\n",
        "- Create a function which interpolate the below data for $g_*^{1/2}(T)$ and $h_{\\rm{eff}}$ (use the `interp1d` function)\n",
        "\n",
        "- Write a new function for solving the Boltzmann eqn in terms of $dY/dx$ (the same numerical method will work)\n",
        "\n",
        "- Plot $Y_{eq}$\n",
        "\n",
        "- Modify the plot to include the extra curve with different formatting (check the documentation, or ask Colab AI)"
      ],
      "metadata": {
        "id": "9c5bnm1l270q"
      }
    },
    {
      "cell_type": "code",
      "source": [
        "#Create the interpolating functions from this data:\n",
        "\n",
        "gs_half_T_vals=(0.00002, 0.00004, 0.00007, 0.00008, 0.0001, 0.00013, 0.00018, \\\n",
        "0.00033, 0.00069, 0.00453, 0.01113, 0.02116, 0.03112, 0.05917, \\\n",
        "0.09081, 0.12257, 0.14548, 0.16543, 0.22327, 0.40673, 0.65156, \\\n",
        "1.23886, 2.35555, 4.87946, 9.27773, 20.0598, 29.4963, 43.372, \\\n",
        "69.4801, 170.828, 798.593, 10000.)\n",
        "\n",
        "gs_half_vals=(2.12996, 2.12996, 2.25993, 2.51986, 2.77978, 3.08303, 3.213, 3.25632, \\\n",
        "3.29964, 3.29964, 3.29964, 3.64621, 3.81949, 4.12274, 4.38267, \\\n",
        "5.20578, 6.41877, 7.5018, 7.84838, 8.15162, 8.41155, 8.88809, \\\n",
        "9.14801, 9.14801, 9.23466, 9.45126, 9.71119, 9.9278, 10.1444, \\\n",
        "10.2744, 10.2744, 10.2744)\n",
        "\n",
        "h_eff_T_vals=(0.00002, 0.00007, 0.00012, 0.00022, 0.00041, 0.00089, 0.00297, \\\n",
        "0.01226, 0.02335, 0.03437, 0.05753, 0.08839, 0.13008, 0.14797, \\\n",
        "0.1834, 0.21777, 0.29412, 0.43288, 0.66503, 0.97876, 1.56965, \\\n",
        "2.21304, 4.21414, 8.0247, 15.2809, 19.7714, 33.0989, 48.7131, \\\n",
        "68.6799, 96.8309, 162.103, 336.362, 697.948, 2131.43, 9177.07)\n",
        "\n",
        "h_eff_vals=(3.91304, 3.58696, 5.54348, 7.82609, 9.45652, 10.7609, 11.087, \\\n",
        "10.7609, 11.7391, 13.0435, 15., 16.6304, 20.2174, 27.3913, 39.1304, \\\n",
        "46.9565, 56.087, 61.6304, 66.8478, 72.0652, 75.3261, 78.913, 81.5217, \\\n",
        "83.1522, 83.8043, 86.413, 89.6739, 94.8913, 97.5, 100.761, 102.391, \\\n",
        "103.696, 104.348, 104.348, 104.348)"
      ],
      "metadata": {
        "id": "UPVeF3Q58QYc"
      },
      "execution_count": null,
      "outputs": []
    },
    {
      "cell_type": "code",
      "source": [
        "#ANSWER"
      ],
      "metadata": {
        "id": "8YQ43Opa7AUS"
      },
      "execution_count": null,
      "outputs": []
    },
    {
      "cell_type": "markdown",
      "source": [
        "Things you can explore:\n",
        "- Different WIMP cross sections or masses\n",
        "- Verify your result against one from the literature (e.g. Fig.1 of [arXiv:1204.3622](https://arxiv.org/abs/1204.3622))\n",
        "- Accuracy vs. speed (play around with options `rtol` and `atol`)\n"
      ],
      "metadata": {
        "id": "w_UZtLEaI_Se"
      }
    },
    {
      "cell_type": "markdown",
      "source": [
        " **Download figure**\n",
        "\n",
        "This is slightly more complicated in colab, we need an extra step to get the file, either use the function: `from google.colab import files`, or the sidebar to download the figure to our computer:\n",
        "\n"
      ],
      "metadata": {
        "id": "EY_LoxzqzPbc"
      }
    },
    {
      "cell_type": "code",
      "source": [
        "files.download(\"fig_dm_freezeout.pdf\")"
      ],
      "metadata": {
        "colab": {
          "base_uri": "https://localhost:8080/",
          "height": 17
        },
        "id": "O4mS09Zuw6qU",
        "outputId": "0a1699fd-376f-44b9-b9a3-8c4dd845bba7"
      },
      "execution_count": null,
      "outputs": [
        {
          "output_type": "display_data",
          "data": {
            "text/plain": [
              "<IPython.core.display.Javascript object>"
            ],
            "application/javascript": [
              "\n",
              "    async function download(id, filename, size) {\n",
              "      if (!google.colab.kernel.accessAllowed) {\n",
              "        return;\n",
              "      }\n",
              "      const div = document.createElement('div');\n",
              "      const label = document.createElement('label');\n",
              "      label.textContent = `Downloading \"${filename}\": `;\n",
              "      div.appendChild(label);\n",
              "      const progress = document.createElement('progress');\n",
              "      progress.max = size;\n",
              "      div.appendChild(progress);\n",
              "      document.body.appendChild(div);\n",
              "\n",
              "      const buffers = [];\n",
              "      let downloaded = 0;\n",
              "\n",
              "      const channel = await google.colab.kernel.comms.open(id);\n",
              "      // Send a message to notify the kernel that we're ready.\n",
              "      channel.send({})\n",
              "\n",
              "      for await (const message of channel.messages) {\n",
              "        // Send a message to notify the kernel that we're ready.\n",
              "        channel.send({})\n",
              "        if (message.buffers) {\n",
              "          for (const buffer of message.buffers) {\n",
              "            buffers.push(buffer);\n",
              "            downloaded += buffer.byteLength;\n",
              "            progress.value = downloaded;\n",
              "          }\n",
              "        }\n",
              "      }\n",
              "      const blob = new Blob(buffers, {type: 'application/binary'});\n",
              "      const a = document.createElement('a');\n",
              "      a.href = window.URL.createObjectURL(blob);\n",
              "      a.download = filename;\n",
              "      div.appendChild(a);\n",
              "      a.click();\n",
              "      div.remove();\n",
              "    }\n",
              "  "
            ]
          },
          "metadata": {}
        },
        {
          "output_type": "display_data",
          "data": {
            "text/plain": [
              "<IPython.core.display.Javascript object>"
            ],
            "application/javascript": [
              "download(\"download_a7386c22-61de-4025-9837-66df3f7f38b2\", \"fig_dm_freezeout.png\", 397961)"
            ]
          },
          "metadata": {}
        }
      ]
    },
    {
      "cell_type": "markdown",
      "source": [
        "#Relic density\n",
        "\n",
        "So we've calculated the freezeout process, now let's calculate the relic density of DM that corresponds to. This is normally expressed as a fraction of the critical density:\n",
        "\n",
        "$\\Omega_\\chi = \\frac{\\rho_\\chi}{\\rho_{\\rm{critical}}} $\n",
        "\n",
        "Where:\n",
        "\n",
        "$\\rho_\\chi = m_\\chi n_\\chi(t_0) =  m_\\chi s_0 Y_{\\chi,0}$\n",
        "\n",
        "$\\rho_{\\rm{critical}} = \\frac{3 H_0^2}{8\\pi G}$\n",
        "\n",
        "Within the standard cosmological model ($\\Lambda\\rm{CDM}$), fits to the density fluctuations of the CMB indicate $\\Omega_\\chi \\sim 0.26$\n",
        "\n",
        "Given the (ongoing) uncertainty in the Hubble constant, it is common to see the density expressed with it factored out:\n",
        "\n",
        "$\\Omega_\\chi h^2 = 0.120\\pm0.001$ (from [Planck](https://arxiv.org/abs/1807.06209))\n",
        "\n",
        "Where $h = \\frac{H_0}{100\\rm{km/s/Mpc}}$\n"
      ],
      "metadata": {
        "id": "mRYTZr4_0FXa"
      }
    },
    {
      "cell_type": "markdown",
      "source": [
        "**Exercise 2**\n",
        "\n",
        "Using the above equations (and our previously defined functions) create a function which takes as input WIMP mass, $m_\\chi$, annihilation cross section, $\\langle\\sigma v \\rangle$, and WIMP degrees of freedom, $g_\\chi$, and computes the expected relic density ($\\Omega_\\chi h^2$).\n",
        "\n",
        "(Hint: to calculate $s_0$ use the equation given above and the present CMB photon temp)"
      ],
      "metadata": {
        "id": "xzLBuHQHYefc"
      }
    },
    {
      "cell_type": "code",
      "source": [
        "#ANSWER\n"
      ],
      "metadata": {
        "id": "eftE_WCQluGw"
      },
      "execution_count": null,
      "outputs": []
    },
    {
      "cell_type": "markdown",
      "source": [
        "#Stretch goals:\n",
        "\n",
        "\n",
        "**Exercise 3**\n",
        "\n",
        "Make a plot of the annihilation cross section which reproduces the correct relic density as a function of WIMP mass"
      ],
      "metadata": {
        "id": "bW66m-N6ZVhH"
      }
    },
    {
      "cell_type": "code",
      "source": [
        "#ANSWER\n"
      ],
      "metadata": {
        "id": "rzt7qhM6cxU2"
      },
      "execution_count": null,
      "outputs": []
    },
    {
      "cell_type": "markdown",
      "source": [
        "**Exercise 4**\n",
        "\n",
        "Modify the code to do freeze in of DM\n",
        "\n",
        "Hint: the main difference is the initial conditions for freeze in"
      ],
      "metadata": {
        "id": "MefC_s5wqkis"
      }
    },
    {
      "cell_type": "code",
      "source": [
        "#ANSWER"
      ],
      "metadata": {
        "id": "HLgzcDNnDfzW"
      },
      "execution_count": null,
      "outputs": []
    },
    {
      "cell_type": "markdown",
      "source": [
        "# Acknowledgements\n",
        "\n",
        "This notebook is partly based of code by Ben Safdi, and Josh Wood and Innes Bigaran.\n"
      ],
      "metadata": {
        "id": "ols3BmUESroA"
      }
    }
  ]
}